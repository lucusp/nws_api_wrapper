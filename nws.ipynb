{
 "metadata": {
  "language_info": {
   "codemirror_mode": {
    "name": "ipython",
    "version": 3
   },
   "file_extension": ".py",
   "mimetype": "text/x-python",
   "name": "python",
   "nbconvert_exporter": "python",
   "pygments_lexer": "ipython3",
   "version": "3.8.5-final"
  },
  "orig_nbformat": 2,
  "kernelspec": {
   "name": "python3",
   "display_name": "Python 3.8.5 32-bit",
   "metadata": {
    "interpreter": {
     "hash": "047a21dd25ec62d0c91f659582243a18414ed0db64b27f5b656d40f0f783e35b"
    }
   }
  }
 },
 "nbformat": 4,
 "nbformat_minor": 2,
 "cells": [
  {
   "cell_type": "code",
   "execution_count": 31,
   "metadata": {},
   "outputs": [],
   "source": [
    "from wthr import weather as weather\n",
    "import pandas as pd"
   ]
  },
  {
   "cell_type": "code",
   "execution_count": 32,
   "metadata": {},
   "outputs": [],
   "source": [
    "weather = weather()"
   ]
  },
  {
   "cell_type": "code",
   "execution_count": 33,
   "metadata": {},
   "outputs": [],
   "source": [
    "data = weather.getHourlyTemps('KEVV')"
   ]
  },
  {
   "cell_type": "code",
   "execution_count": 34,
   "metadata": {},
   "outputs": [
    {
     "output_type": "execute_result",
     "data": {
      "text/plain": [
       "         date            time   temp\n",
       "0  2021-05-04  14:01:00-05:00  73.04\n",
       "1  2021-05-04  13:54:00-05:00  71.96\n",
       "2  2021-05-04  12:54:00-05:00  71.06\n",
       "3  2021-05-04  12:35:00-05:00  69.08\n",
       "4  2021-05-04  12:28:00-05:00  69.08"
      ],
      "text/html": "<div>\n<style scoped>\n    .dataframe tbody tr th:only-of-type {\n        vertical-align: middle;\n    }\n\n    .dataframe tbody tr th {\n        vertical-align: top;\n    }\n\n    .dataframe thead th {\n        text-align: right;\n    }\n</style>\n<table border=\"1\" class=\"dataframe\">\n  <thead>\n    <tr style=\"text-align: right;\">\n      <th></th>\n      <th>date</th>\n      <th>time</th>\n      <th>temp</th>\n    </tr>\n  </thead>\n  <tbody>\n    <tr>\n      <th>0</th>\n      <td>2021-05-04</td>\n      <td>14:01:00-05:00</td>\n      <td>73.04</td>\n    </tr>\n    <tr>\n      <th>1</th>\n      <td>2021-05-04</td>\n      <td>13:54:00-05:00</td>\n      <td>71.96</td>\n    </tr>\n    <tr>\n      <th>2</th>\n      <td>2021-05-04</td>\n      <td>12:54:00-05:00</td>\n      <td>71.06</td>\n    </tr>\n    <tr>\n      <th>3</th>\n      <td>2021-05-04</td>\n      <td>12:35:00-05:00</td>\n      <td>69.08</td>\n    </tr>\n    <tr>\n      <th>4</th>\n      <td>2021-05-04</td>\n      <td>12:28:00-05:00</td>\n      <td>69.08</td>\n    </tr>\n  </tbody>\n</table>\n</div>"
     },
     "metadata": {},
     "execution_count": 34
    }
   ],
   "source": [
    "df = pd.DataFrame(data['temps'])\n",
    "\n",
    "df.head()"
   ]
  },
  {
   "cell_type": "code",
   "execution_count": 35,
   "metadata": {},
   "outputs": [
    {
     "output_type": "error",
     "ename": "AttributeError",
     "evalue": "'weather' object has no attribute 'getAllObservations'",
     "traceback": [
      "\u001b[1;31m---------------------------------------------------------------------------\u001b[0m",
      "\u001b[1;31mAttributeError\u001b[0m                            Traceback (most recent call last)",
      "\u001b[1;32m<ipython-input-35-17b8f7e7bd9c>\u001b[0m in \u001b[0;36m<module>\u001b[1;34m\u001b[0m\n\u001b[1;32m----> 1\u001b[1;33m \u001b[0mweather\u001b[0m\u001b[1;33m.\u001b[0m\u001b[0mgetAllObservations\u001b[0m\u001b[1;33m(\u001b[0m\u001b[0mstation\u001b[0m\u001b[1;33m=\u001b[0m\u001b[1;34m'KEVV'\u001b[0m\u001b[1;33m)\u001b[0m\u001b[1;33m\u001b[0m\u001b[1;33m\u001b[0m\u001b[0m\n\u001b[0m",
      "\u001b[1;31mAttributeError\u001b[0m: 'weather' object has no attribute 'getAllObservations'"
     ]
    }
   ],
   "source": [
    "weather.getAllObservations(station='KEVV')"
   ]
  },
  {
   "cell_type": "code",
   "execution_count": null,
   "metadata": {},
   "outputs": [],
   "source": []
  }
 ]
}