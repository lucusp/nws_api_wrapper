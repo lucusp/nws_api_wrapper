{
 "metadata": {
  "language_info": {
   "codemirror_mode": {
    "name": "ipython",
    "version": 3
   },
   "file_extension": ".py",
   "mimetype": "text/x-python",
   "name": "python",
   "nbconvert_exporter": "python",
   "pygments_lexer": "ipython3",
   "version": "3.8.5-final"
  },
  "orig_nbformat": 2,
  "kernelspec": {
   "name": "python385jvsc74a57bd0047a21dd25ec62d0c91f659582243a18414ed0db64b27f5b656d40f0f783e35b",
   "display_name": "Python 3.8.5 32-bit"
  },
  "metadata": {
   "interpreter": {
    "hash": "047a21dd25ec62d0c91f659582243a18414ed0db64b27f5b656d40f0f783e35b"
   }
  }
 },
 "nbformat": 4,
 "nbformat_minor": 2,
 "cells": [
  {
   "cell_type": "code",
   "execution_count": 1,
   "metadata": {},
   "outputs": [],
   "source": [
    "from wthr import weather as weather\n",
    "import pandas as pd\n",
    "from datetime import datetime, timedelta"
   ]
  },
  {
   "cell_type": "code",
   "execution_count": 2,
   "metadata": {},
   "outputs": [],
   "source": [
    "weather = weather()"
   ]
  },
  {
   "cell_type": "code",
   "execution_count": 4,
   "metadata": {},
   "outputs": [
    {
     "output_type": "stream",
     "name": "stdout",
     "text": [
      "{'@context': ['https://geojson.org/geojson-ld/geojson-context.jsonld', {'@version': '1.1', 'wx': 'https://api.weather.gov/ontology#', 's': 'https://schema.org/', 'geo': 'http://www.opengis.net/ont/geosparql#', 'unit': 'http://codes.wmo.int/common/unit/', '@vocab': 'https://api.weather.gov/ontology#', 'geometry': {'@id': 's:GeoCoordinates', '@type': 'geo:wktLiteral'}, 'city': 's:addressLocality', 'state': 's:addressRegion', 'distance': {'@id': 's:Distance', '@type': 's:QuantitativeValue'}, 'bearing': {'@type': 's:QuantitativeValue'}, 'value': {'@id': 's:value'}, 'unitCode': {'@id': 's:unitCode', '@type': '@id'}, 'forecastOffice': {'@type': '@id'}, 'forecastGridData': {'@type': '@id'}, 'publicZone': {'@type': '@id'}, 'county': {'@type': '@id'}}], 'id': 'https://api.weather.gov/stations/KEVV/observations/2021-05-07T01:54:00+00:00', 'type': 'Feature', 'geometry': {'type': 'Point', 'coordinates': [-87.53, 38.04]}, 'properties': {'@id': 'https://api.weather.gov/stations/KEVV/observations/2021-05-07T01:54:00+00:00', '@type': 'wx:ObservationStation', 'elevation': {'value': 118, 'unitCode': 'unit:m'}, 'station': 'https://api.weather.gov/stations/KEVV', 'timestamp': '2021-05-07T01:54:00+00:00', 'rawMessage': 'KEVV 070154Z VRB06KT 10SM CLR 12/09 A3009 RMK AO2 SLP190 T01170089 $', 'textDescription': 'Clear', 'icon': 'https://api.weather.gov/icons/land/night/skc?size=medium', 'presentWeather': [], 'temperature': {'value': 11.7, 'unitCode': 'unit:degC', 'qualityControl': 'qc:V'}, 'dewpoint': {'value': 8.9, 'unitCode': 'unit:degC', 'qualityControl': 'qc:V'}, 'windDirection': {'value': None, 'unitCode': 'unit:degree_(angle)', 'qualityControl': 'qc:Z'}, 'windSpeed': {'value': 11.16, 'unitCode': 'unit:km_h-1', 'qualityControl': 'qc:V'}, 'windGust': {'value': None, 'unitCode': 'unit:km_h-1', 'qualityControl': 'qc:Z'}, 'barometricPressure': {'value': 101900, 'unitCode': 'unit:Pa', 'qualityControl': 'qc:V'}, 'seaLevelPressure': {'value': 101900, 'unitCode': 'unit:Pa', 'qualityControl': 'qc:V'}, 'visibility': {'value': 16090, 'unitCode': 'unit:m', 'qualityControl': 'qc:C'}, 'maxTemperatureLast24Hours': {'value': None, 'unitCode': 'unit:degC', 'qualityControl': None}, 'minTemperatureLast24Hours': {'value': None, 'unitCode': 'unit:degC', 'qualityControl': None}, 'precipitationLastHour': {'value': None, 'unitCode': 'unit:m', 'qualityControl': 'qc:Z'}, 'precipitationLast3Hours': {'value': None, 'unitCode': 'unit:m', 'qualityControl': 'qc:Z'}, 'precipitationLast6Hours': {'value': None, 'unitCode': 'unit:m', 'qualityControl': 'qc:Z'}, 'relativeHumidity': {'value': 82.954048467221, 'unitCode': 'unit:percent', 'qualityControl': 'qc:V'}, 'windChill': {'value': None, 'unitCode': 'unit:degC', 'qualityControl': 'qc:V'}, 'heatIndex': {'value': None, 'unitCode': 'unit:degC', 'qualityControl': 'qc:V'}, 'cloudLayers': [{'base': {'value': None, 'unitCode': 'unit:m'}, 'amount': 'CLR'}]}}\n"
     ]
    }
   ],
   "source": [
    "print(weather.getStationLatestObservation('KEVV'))"
   ]
  },
  {
   "cell_type": "code",
   "execution_count": 3,
   "metadata": {},
   "outputs": [],
   "source": [
    "data = weather.getStationHourlyTemps('KEVV')"
   ]
  },
  {
   "cell_type": "code",
   "execution_count": 4,
   "metadata": {},
   "outputs": [
    {
     "output_type": "execute_result",
     "data": {
      "text/plain": [
       "           date                time  temp                hour\n",
       "0    2021-05-06 2021-05-06 08:54:00  57.0 2021-05-06 09:00:00\n",
       "1    2021-05-06 2021-05-06 07:54:00  52.0 2021-05-06 08:00:00\n",
       "2    2021-05-06 2021-05-06 06:54:00  48.0 2021-05-06 07:00:00\n",
       "3    2021-05-06 2021-05-06 05:54:00  44.0 2021-05-06 06:00:00\n",
       "4    2021-05-06 2021-05-06 04:54:00  45.0 2021-05-06 05:00:00\n",
       "..          ...                 ...   ...                 ...\n",
       "536  2021-04-19 2021-04-19 09:54:00  59.0 2021-04-19 10:00:00\n",
       "537  2021-04-19 2021-04-19 08:54:00  56.0 2021-04-19 09:00:00\n",
       "538  2021-04-19 2021-04-19 07:54:00  50.0 2021-04-19 08:00:00\n",
       "539  2021-04-19 2021-04-19 06:54:00  44.0 2021-04-19 07:00:00\n",
       "540  2021-04-19 2021-04-19 05:54:00  40.0 2021-04-19 06:00:00\n",
       "\n",
       "[412 rows x 4 columns]"
      ],
      "text/html": "<div>\n<style scoped>\n    .dataframe tbody tr th:only-of-type {\n        vertical-align: middle;\n    }\n\n    .dataframe tbody tr th {\n        vertical-align: top;\n    }\n\n    .dataframe thead th {\n        text-align: right;\n    }\n</style>\n<table border=\"1\" class=\"dataframe\">\n  <thead>\n    <tr style=\"text-align: right;\">\n      <th></th>\n      <th>date</th>\n      <th>time</th>\n      <th>temp</th>\n      <th>hour</th>\n    </tr>\n  </thead>\n  <tbody>\n    <tr>\n      <th>0</th>\n      <td>2021-05-06</td>\n      <td>2021-05-06 08:54:00</td>\n      <td>57.0</td>\n      <td>2021-05-06 09:00:00</td>\n    </tr>\n    <tr>\n      <th>1</th>\n      <td>2021-05-06</td>\n      <td>2021-05-06 07:54:00</td>\n      <td>52.0</td>\n      <td>2021-05-06 08:00:00</td>\n    </tr>\n    <tr>\n      <th>2</th>\n      <td>2021-05-06</td>\n      <td>2021-05-06 06:54:00</td>\n      <td>48.0</td>\n      <td>2021-05-06 07:00:00</td>\n    </tr>\n    <tr>\n      <th>3</th>\n      <td>2021-05-06</td>\n      <td>2021-05-06 05:54:00</td>\n      <td>44.0</td>\n      <td>2021-05-06 06:00:00</td>\n    </tr>\n    <tr>\n      <th>4</th>\n      <td>2021-05-06</td>\n      <td>2021-05-06 04:54:00</td>\n      <td>45.0</td>\n      <td>2021-05-06 05:00:00</td>\n    </tr>\n    <tr>\n      <th>...</th>\n      <td>...</td>\n      <td>...</td>\n      <td>...</td>\n      <td>...</td>\n    </tr>\n    <tr>\n      <th>536</th>\n      <td>2021-04-19</td>\n      <td>2021-04-19 09:54:00</td>\n      <td>59.0</td>\n      <td>2021-04-19 10:00:00</td>\n    </tr>\n    <tr>\n      <th>537</th>\n      <td>2021-04-19</td>\n      <td>2021-04-19 08:54:00</td>\n      <td>56.0</td>\n      <td>2021-04-19 09:00:00</td>\n    </tr>\n    <tr>\n      <th>538</th>\n      <td>2021-04-19</td>\n      <td>2021-04-19 07:54:00</td>\n      <td>50.0</td>\n      <td>2021-04-19 08:00:00</td>\n    </tr>\n    <tr>\n      <th>539</th>\n      <td>2021-04-19</td>\n      <td>2021-04-19 06:54:00</td>\n      <td>44.0</td>\n      <td>2021-04-19 07:00:00</td>\n    </tr>\n    <tr>\n      <th>540</th>\n      <td>2021-04-19</td>\n      <td>2021-04-19 05:54:00</td>\n      <td>40.0</td>\n      <td>2021-04-19 06:00:00</td>\n    </tr>\n  </tbody>\n</table>\n<p>412 rows × 4 columns</p>\n</div>"
     },
     "metadata": {},
     "execution_count": 4
    }
   ],
   "source": [
    "df = pd.DataFrame(data['temps'])\n",
    "df['hour'] = df['time'].apply(lambda x : x.replace(second=0, microsecond=0, minute=0, hour=x.hour) + timedelta(hours=x.minute//30))\n",
    "df.drop_duplicates(subset='hour', keep='first', inplace=True)\n",
    "df"
   ]
  },
  {
   "cell_type": "code",
   "execution_count": 5,
   "metadata": {},
   "outputs": [
    {
     "output_type": "stream",
     "name": "stdout",
     "text": [
      "<class 'pandas.core.frame.DataFrame'>\nInt64Index: 412 entries, 0 to 540\nData columns (total 4 columns):\n #   Column  Non-Null Count  Dtype         \n---  ------  --------------  -----         \n 0   date    412 non-null    object        \n 1   time    412 non-null    datetime64[ns]\n 2   temp    412 non-null    float64       \n 3   hour    412 non-null    datetime64[ns]\ndtypes: datetime64[ns](2), float64(1), object(1)\nmemory usage: 14.5+ KB\n"
     ]
    }
   ],
   "source": [
    "df.info()"
   ]
  },
  {
   "cell_type": "code",
   "execution_count": 6,
   "metadata": {},
   "outputs": [
    {
     "output_type": "error",
     "ename": "ValueError",
     "evalue": "Excel does not support datetimes with timezones. Please ensure that datetimes are timezone unaware before writing to Excel.",
     "traceback": [
      "\u001b[1;31m---------------------------------------------------------------------------\u001b[0m",
      "\u001b[1;31mValueError\u001b[0m                                Traceback (most recent call last)",
      "\u001b[1;32m<ipython-input-6-b5442d82892b>\u001b[0m in \u001b[0;36m<module>\u001b[1;34m\u001b[0m\n\u001b[1;32m----> 1\u001b[1;33m \u001b[0mdf\u001b[0m\u001b[1;33m.\u001b[0m\u001b[0mto_excel\u001b[0m\u001b[1;33m(\u001b[0m\u001b[1;34m'hourly_weather_data.xlsx'\u001b[0m\u001b[1;33m,\u001b[0m \u001b[0mindex\u001b[0m\u001b[1;33m=\u001b[0m\u001b[1;32mFalse\u001b[0m\u001b[1;33m)\u001b[0m\u001b[1;33m\u001b[0m\u001b[1;33m\u001b[0m\u001b[0m\n\u001b[0m",
      "\u001b[1;32m~\\AppData\\Local\\Programs\\Python\\Python38-32\\lib\\site-packages\\pandas\\core\\generic.py\u001b[0m in \u001b[0;36mto_excel\u001b[1;34m(self, excel_writer, sheet_name, na_rep, float_format, columns, header, index, index_label, startrow, startcol, engine, merge_cells, encoding, inf_rep, verbose, freeze_panes)\u001b[0m\n\u001b[0;32m   2021\u001b[0m             \u001b[0minf_rep\u001b[0m\u001b[1;33m=\u001b[0m\u001b[0minf_rep\u001b[0m\u001b[1;33m,\u001b[0m\u001b[1;33m\u001b[0m\u001b[1;33m\u001b[0m\u001b[0m\n\u001b[0;32m   2022\u001b[0m         )\n\u001b[1;32m-> 2023\u001b[1;33m         formatter.write(\n\u001b[0m\u001b[0;32m   2024\u001b[0m             \u001b[0mexcel_writer\u001b[0m\u001b[1;33m,\u001b[0m\u001b[1;33m\u001b[0m\u001b[1;33m\u001b[0m\u001b[0m\n\u001b[0;32m   2025\u001b[0m             \u001b[0msheet_name\u001b[0m\u001b[1;33m=\u001b[0m\u001b[0msheet_name\u001b[0m\u001b[1;33m,\u001b[0m\u001b[1;33m\u001b[0m\u001b[1;33m\u001b[0m\u001b[0m\n",
      "\u001b[1;32m~\\AppData\\Local\\Programs\\Python\\Python38-32\\lib\\site-packages\\pandas\\io\\formats\\excel.py\u001b[0m in \u001b[0;36mwrite\u001b[1;34m(self, writer, sheet_name, startrow, startcol, freeze_panes, engine)\u001b[0m\n\u001b[0;32m    732\u001b[0m \u001b[1;33m\u001b[0m\u001b[0m\n\u001b[0;32m    733\u001b[0m         \u001b[0mformatted_cells\u001b[0m \u001b[1;33m=\u001b[0m \u001b[0mself\u001b[0m\u001b[1;33m.\u001b[0m\u001b[0mget_formatted_cells\u001b[0m\u001b[1;33m(\u001b[0m\u001b[1;33m)\u001b[0m\u001b[1;33m\u001b[0m\u001b[1;33m\u001b[0m\u001b[0m\n\u001b[1;32m--> 734\u001b[1;33m         writer.write_cells(\n\u001b[0m\u001b[0;32m    735\u001b[0m             \u001b[0mformatted_cells\u001b[0m\u001b[1;33m,\u001b[0m\u001b[1;33m\u001b[0m\u001b[1;33m\u001b[0m\u001b[0m\n\u001b[0;32m    736\u001b[0m             \u001b[0msheet_name\u001b[0m\u001b[1;33m,\u001b[0m\u001b[1;33m\u001b[0m\u001b[1;33m\u001b[0m\u001b[0m\n",
      "\u001b[1;32m~\\AppData\\Local\\Programs\\Python\\Python38-32\\lib\\site-packages\\pandas\\io\\excel\\_openpyxl.py\u001b[0m in \u001b[0;36mwrite_cells\u001b[1;34m(self, cells, sheet_name, startrow, startcol, freeze_panes)\u001b[0m\n\u001b[0;32m    419\u001b[0m             )\n\u001b[0;32m    420\u001b[0m \u001b[1;33m\u001b[0m\u001b[0m\n\u001b[1;32m--> 421\u001b[1;33m         \u001b[1;32mfor\u001b[0m \u001b[0mcell\u001b[0m \u001b[1;32min\u001b[0m \u001b[0mcells\u001b[0m\u001b[1;33m:\u001b[0m\u001b[1;33m\u001b[0m\u001b[1;33m\u001b[0m\u001b[0m\n\u001b[0m\u001b[0;32m    422\u001b[0m             xcell = wks.cell(\n\u001b[0;32m    423\u001b[0m                 \u001b[0mrow\u001b[0m\u001b[1;33m=\u001b[0m\u001b[0mstartrow\u001b[0m \u001b[1;33m+\u001b[0m \u001b[0mcell\u001b[0m\u001b[1;33m.\u001b[0m\u001b[0mrow\u001b[0m \u001b[1;33m+\u001b[0m \u001b[1;36m1\u001b[0m\u001b[1;33m,\u001b[0m \u001b[0mcolumn\u001b[0m\u001b[1;33m=\u001b[0m\u001b[0mstartcol\u001b[0m \u001b[1;33m+\u001b[0m \u001b[0mcell\u001b[0m\u001b[1;33m.\u001b[0m\u001b[0mcol\u001b[0m \u001b[1;33m+\u001b[0m \u001b[1;36m1\u001b[0m\u001b[1;33m\u001b[0m\u001b[1;33m\u001b[0m\u001b[0m\n",
      "\u001b[1;32m~\\AppData\\Local\\Programs\\Python\\Python38-32\\lib\\site-packages\\pandas\\io\\formats\\excel.py\u001b[0m in \u001b[0;36mget_formatted_cells\u001b[1;34m(self)\u001b[0m\n\u001b[0;32m    687\u001b[0m     \u001b[1;32mdef\u001b[0m \u001b[0mget_formatted_cells\u001b[0m\u001b[1;33m(\u001b[0m\u001b[0mself\u001b[0m\u001b[1;33m)\u001b[0m\u001b[1;33m:\u001b[0m\u001b[1;33m\u001b[0m\u001b[1;33m\u001b[0m\u001b[0m\n\u001b[0;32m    688\u001b[0m         \u001b[1;32mfor\u001b[0m \u001b[0mcell\u001b[0m \u001b[1;32min\u001b[0m \u001b[0mitertools\u001b[0m\u001b[1;33m.\u001b[0m\u001b[0mchain\u001b[0m\u001b[1;33m(\u001b[0m\u001b[0mself\u001b[0m\u001b[1;33m.\u001b[0m\u001b[0m_format_header\u001b[0m\u001b[1;33m(\u001b[0m\u001b[1;33m)\u001b[0m\u001b[1;33m,\u001b[0m \u001b[0mself\u001b[0m\u001b[1;33m.\u001b[0m\u001b[0m_format_body\u001b[0m\u001b[1;33m(\u001b[0m\u001b[1;33m)\u001b[0m\u001b[1;33m)\u001b[0m\u001b[1;33m:\u001b[0m\u001b[1;33m\u001b[0m\u001b[1;33m\u001b[0m\u001b[0m\n\u001b[1;32m--> 689\u001b[1;33m             \u001b[0mcell\u001b[0m\u001b[1;33m.\u001b[0m\u001b[0mval\u001b[0m \u001b[1;33m=\u001b[0m \u001b[0mself\u001b[0m\u001b[1;33m.\u001b[0m\u001b[0m_format_value\u001b[0m\u001b[1;33m(\u001b[0m\u001b[0mcell\u001b[0m\u001b[1;33m.\u001b[0m\u001b[0mval\u001b[0m\u001b[1;33m)\u001b[0m\u001b[1;33m\u001b[0m\u001b[1;33m\u001b[0m\u001b[0m\n\u001b[0m\u001b[0;32m    690\u001b[0m             \u001b[1;32myield\u001b[0m \u001b[0mcell\u001b[0m\u001b[1;33m\u001b[0m\u001b[1;33m\u001b[0m\u001b[0m\n\u001b[0;32m    691\u001b[0m \u001b[1;33m\u001b[0m\u001b[0m\n",
      "\u001b[1;32m~\\AppData\\Local\\Programs\\Python\\Python38-32\\lib\\site-packages\\pandas\\io\\formats\\excel.py\u001b[0m in \u001b[0;36m_format_value\u001b[1;34m(self, val)\u001b[0m\n\u001b[0;32m    439\u001b[0m                 \u001b[0mval\u001b[0m \u001b[1;33m=\u001b[0m \u001b[0mfloat\u001b[0m\u001b[1;33m(\u001b[0m\u001b[0mself\u001b[0m\u001b[1;33m.\u001b[0m\u001b[0mfloat_format\u001b[0m \u001b[1;33m%\u001b[0m \u001b[0mval\u001b[0m\u001b[1;33m)\u001b[0m\u001b[1;33m\u001b[0m\u001b[1;33m\u001b[0m\u001b[0m\n\u001b[0;32m    440\u001b[0m         \u001b[1;32mif\u001b[0m \u001b[0mgetattr\u001b[0m\u001b[1;33m(\u001b[0m\u001b[0mval\u001b[0m\u001b[1;33m,\u001b[0m \u001b[1;34m\"tzinfo\"\u001b[0m\u001b[1;33m,\u001b[0m \u001b[1;32mNone\u001b[0m\u001b[1;33m)\u001b[0m \u001b[1;32mis\u001b[0m \u001b[1;32mnot\u001b[0m \u001b[1;32mNone\u001b[0m\u001b[1;33m:\u001b[0m\u001b[1;33m\u001b[0m\u001b[1;33m\u001b[0m\u001b[0m\n\u001b[1;32m--> 441\u001b[1;33m             raise ValueError(\n\u001b[0m\u001b[0;32m    442\u001b[0m                 \u001b[1;34m\"Excel does not support datetimes with \"\u001b[0m\u001b[1;33m\u001b[0m\u001b[1;33m\u001b[0m\u001b[0m\n\u001b[0;32m    443\u001b[0m                 \u001b[1;34m\"timezones. Please ensure that datetimes \"\u001b[0m\u001b[1;33m\u001b[0m\u001b[1;33m\u001b[0m\u001b[0m\n",
      "\u001b[1;31mValueError\u001b[0m: Excel does not support datetimes with timezones. Please ensure that datetimes are timezone unaware before writing to Excel."
     ]
    }
   ],
   "source": [
    "df.to_excel('hourly_weather_data.xlsx', index=False)"
   ]
  },
  {
   "cell_type": "code",
   "execution_count": 8,
   "metadata": {},
   "outputs": [
    {
     "output_type": "execute_result",
     "data": {
      "text/plain": [
       "[-87.53, 38.04]"
      ]
     },
     "metadata": {},
     "execution_count": 8
    }
   ],
   "source": [
    "weather.getStationCoordinates(station='KEVV')"
   ]
  },
  {
   "cell_type": "code",
   "execution_count": 9,
   "metadata": {},
   "outputs": [
    {
     "output_type": "stream",
     "name": "stdout",
     "text": [
      "2021-05-04T18:00:00-05:00 64\n2021-05-04T19:00:00-05:00 62\n2021-05-04T20:00:00-05:00 60\n2021-05-04T21:00:00-05:00 60\n2021-05-04T22:00:00-05:00 60\n2021-05-04T23:00:00-05:00 58\n2021-05-05T00:00:00-05:00 57\n2021-05-05T01:00:00-05:00 56\n2021-05-05T02:00:00-05:00 55\n2021-05-05T03:00:00-05:00 53\n2021-05-05T04:00:00-05:00 52\n2021-05-05T05:00:00-05:00 51\n2021-05-05T06:00:00-05:00 50\n2021-05-05T07:00:00-05:00 51\n2021-05-05T08:00:00-05:00 53\n2021-05-05T09:00:00-05:00 55\n2021-05-05T10:00:00-05:00 58\n2021-05-05T11:00:00-05:00 60\n2021-05-05T12:00:00-05:00 62\n2021-05-05T13:00:00-05:00 63\n2021-05-05T14:00:00-05:00 65\n2021-05-05T15:00:00-05:00 66\n2021-05-05T16:00:00-05:00 66\n2021-05-05T17:00:00-05:00 66\n2021-05-05T18:00:00-05:00 64\n2021-05-05T19:00:00-05:00 62\n2021-05-05T20:00:00-05:00 59\n2021-05-05T21:00:00-05:00 55\n2021-05-05T22:00:00-05:00 52\n2021-05-05T23:00:00-05:00 50\n2021-05-06T00:00:00-05:00 49\n2021-05-06T01:00:00-05:00 48\n2021-05-06T02:00:00-05:00 47\n2021-05-06T03:00:00-05:00 47\n2021-05-06T04:00:00-05:00 46\n2021-05-06T05:00:00-05:00 45\n2021-05-06T06:00:00-05:00 45\n2021-05-06T07:00:00-05:00 47\n2021-05-06T08:00:00-05:00 51\n2021-05-06T09:00:00-05:00 56\n2021-05-06T10:00:00-05:00 60\n2021-05-06T11:00:00-05:00 62\n2021-05-06T12:00:00-05:00 64\n2021-05-06T13:00:00-05:00 65\n2021-05-06T14:00:00-05:00 66\n2021-05-06T15:00:00-05:00 66\n2021-05-06T16:00:00-05:00 65\n2021-05-06T17:00:00-05:00 64\n2021-05-06T18:00:00-05:00 62\n2021-05-06T19:00:00-05:00 60\n2021-05-06T20:00:00-05:00 58\n2021-05-06T21:00:00-05:00 56\n2021-05-06T22:00:00-05:00 54\n2021-05-06T23:00:00-05:00 52\n2021-05-07T00:00:00-05:00 50\n2021-05-07T01:00:00-05:00 49\n2021-05-07T02:00:00-05:00 48\n2021-05-07T03:00:00-05:00 47\n2021-05-07T04:00:00-05:00 46\n2021-05-07T05:00:00-05:00 45\n2021-05-07T06:00:00-05:00 45\n2021-05-07T07:00:00-05:00 46\n2021-05-07T08:00:00-05:00 49\n2021-05-07T09:00:00-05:00 54\n2021-05-07T10:00:00-05:00 58\n2021-05-07T11:00:00-05:00 61\n2021-05-07T12:00:00-05:00 63\n2021-05-07T13:00:00-05:00 65\n2021-05-07T14:00:00-05:00 66\n2021-05-07T15:00:00-05:00 67\n2021-05-07T16:00:00-05:00 67\n2021-05-07T17:00:00-05:00 66\n2021-05-07T18:00:00-05:00 64\n2021-05-07T19:00:00-05:00 62\n2021-05-07T20:00:00-05:00 60\n2021-05-07T21:00:00-05:00 57\n2021-05-07T22:00:00-05:00 55\n2021-05-07T23:00:00-05:00 54\n2021-05-08T00:00:00-05:00 53\n2021-05-08T01:00:00-05:00 52\n2021-05-08T02:00:00-05:00 51\n2021-05-08T03:00:00-05:00 50\n2021-05-08T04:00:00-05:00 50\n2021-05-08T05:00:00-05:00 50\n2021-05-08T06:00:00-05:00 50\n2021-05-08T07:00:00-05:00 51\n2021-05-08T08:00:00-05:00 53\n2021-05-08T09:00:00-05:00 56\n2021-05-08T10:00:00-05:00 58\n2021-05-08T11:00:00-05:00 60\n2021-05-08T12:00:00-05:00 61\n2021-05-08T13:00:00-05:00 62\n2021-05-08T14:00:00-05:00 63\n2021-05-08T15:00:00-05:00 64\n2021-05-08T16:00:00-05:00 64\n2021-05-08T17:00:00-05:00 64\n2021-05-08T18:00:00-05:00 63\n2021-05-08T19:00:00-05:00 62\n2021-05-08T20:00:00-05:00 61\n2021-05-08T21:00:00-05:00 60\n2021-05-08T22:00:00-05:00 59\n2021-05-08T23:00:00-05:00 59\n2021-05-09T00:00:00-05:00 60\n2021-05-09T01:00:00-05:00 60\n2021-05-09T02:00:00-05:00 60\n2021-05-09T03:00:00-05:00 60\n2021-05-09T04:00:00-05:00 60\n2021-05-09T05:00:00-05:00 60\n2021-05-09T06:00:00-05:00 60\n2021-05-09T07:00:00-05:00 61\n2021-05-09T08:00:00-05:00 62\n2021-05-09T09:00:00-05:00 64\n2021-05-09T10:00:00-05:00 65\n2021-05-09T11:00:00-05:00 66\n2021-05-09T12:00:00-05:00 68\n2021-05-09T13:00:00-05:00 69\n2021-05-09T14:00:00-05:00 70\n2021-05-09T15:00:00-05:00 71\n2021-05-09T16:00:00-05:00 71\n2021-05-09T17:00:00-05:00 70\n2021-05-09T18:00:00-05:00 69\n2021-05-09T19:00:00-05:00 67\n2021-05-09T20:00:00-05:00 65\n2021-05-09T21:00:00-05:00 64\n2021-05-09T22:00:00-05:00 62\n2021-05-09T23:00:00-05:00 60\n2021-05-10T00:00:00-05:00 59\n2021-05-10T01:00:00-05:00 58\n2021-05-10T02:00:00-05:00 57\n2021-05-10T03:00:00-05:00 56\n2021-05-10T04:00:00-05:00 56\n2021-05-10T05:00:00-05:00 55\n2021-05-10T06:00:00-05:00 55\n2021-05-10T07:00:00-05:00 55\n2021-05-10T08:00:00-05:00 56\n2021-05-10T09:00:00-05:00 58\n2021-05-10T10:00:00-05:00 60\n2021-05-10T11:00:00-05:00 62\n2021-05-10T12:00:00-05:00 63\n2021-05-10T13:00:00-05:00 64\n2021-05-10T14:00:00-05:00 65\n2021-05-10T15:00:00-05:00 66\n2021-05-10T16:00:00-05:00 66\n2021-05-10T17:00:00-05:00 66\n2021-05-10T18:00:00-05:00 64\n2021-05-10T19:00:00-05:00 63\n2021-05-10T20:00:00-05:00 61\n2021-05-10T21:00:00-05:00 60\n2021-05-10T22:00:00-05:00 58\n2021-05-10T23:00:00-05:00 56\n2021-05-11T00:00:00-05:00 55\n2021-05-11T01:00:00-05:00 54\n2021-05-11T02:00:00-05:00 53\n2021-05-11T03:00:00-05:00 52\n2021-05-11T04:00:00-05:00 52\n2021-05-11T05:00:00-05:00 51\n"
     ]
    }
   ],
   "source": [
    "for d in weather.getStationHourlyForecast(station='KEVV')['properties']['periods']:\n",
    "    print(d['startTime'], d['temperature'])"
   ]
  },
  {
   "cell_type": "code",
   "execution_count": null,
   "metadata": {},
   "outputs": [],
   "source": []
  }
 ]
}