{
 "metadata": {
  "language_info": {
   "codemirror_mode": {
    "name": "ipython",
    "version": 3
   },
   "file_extension": ".py",
   "mimetype": "text/x-python",
   "name": "python",
   "nbconvert_exporter": "python",
   "pygments_lexer": "ipython3",
   "version": "3.8.5-final"
  },
  "orig_nbformat": 2,
  "kernelspec": {
   "name": "python3",
   "display_name": "Python 3.8.5 32-bit",
   "metadata": {
    "interpreter": {
     "hash": "047a21dd25ec62d0c91f659582243a18414ed0db64b27f5b656d40f0f783e35b"
    }
   }
  }
 },
 "nbformat": 4,
 "nbformat_minor": 2,
 "cells": [
  {
   "cell_type": "code",
   "execution_count": 1,
   "metadata": {},
   "outputs": [],
   "source": [
    "from wthr import weather as weather\n",
    "import pandas as pd"
   ]
  },
  {
   "cell_type": "code",
   "execution_count": 2,
   "metadata": {},
   "outputs": [],
   "source": [
    "weather = weather()"
   ]
  },
  {
   "cell_type": "code",
   "execution_count": 3,
   "metadata": {},
   "outputs": [],
   "source": [
    "data = weather.getHourlyTemps('KEVV')"
   ]
  },
  {
   "cell_type": "code",
   "execution_count": 4,
   "metadata": {},
   "outputs": [
    {
     "output_type": "execute_result",
     "data": {
      "text/plain": [
       "         date            time  temp\n",
       "0  2021-05-04  17:54:00-05:00  60.8\n",
       "1  2021-05-04  17:39:00-05:00  62.6\n",
       "2  2021-05-04  16:54:00-05:00  64.4\n",
       "3  2021-05-04  16:40:00-05:00  64.4\n",
       "4  2021-05-04  15:54:00-05:00  66.2"
      ],
      "text/html": "<div>\n<style scoped>\n    .dataframe tbody tr th:only-of-type {\n        vertical-align: middle;\n    }\n\n    .dataframe tbody tr th {\n        vertical-align: top;\n    }\n\n    .dataframe thead th {\n        text-align: right;\n    }\n</style>\n<table border=\"1\" class=\"dataframe\">\n  <thead>\n    <tr style=\"text-align: right;\">\n      <th></th>\n      <th>date</th>\n      <th>time</th>\n      <th>temp</th>\n    </tr>\n  </thead>\n  <tbody>\n    <tr>\n      <th>0</th>\n      <td>2021-05-04</td>\n      <td>17:54:00-05:00</td>\n      <td>60.8</td>\n    </tr>\n    <tr>\n      <th>1</th>\n      <td>2021-05-04</td>\n      <td>17:39:00-05:00</td>\n      <td>62.6</td>\n    </tr>\n    <tr>\n      <th>2</th>\n      <td>2021-05-04</td>\n      <td>16:54:00-05:00</td>\n      <td>64.4</td>\n    </tr>\n    <tr>\n      <th>3</th>\n      <td>2021-05-04</td>\n      <td>16:40:00-05:00</td>\n      <td>64.4</td>\n    </tr>\n    <tr>\n      <th>4</th>\n      <td>2021-05-04</td>\n      <td>15:54:00-05:00</td>\n      <td>66.2</td>\n    </tr>\n  </tbody>\n</table>\n</div>"
     },
     "metadata": {},
     "execution_count": 4
    }
   ],
   "source": [
    "df = pd.DataFrame(data['temps'])\n",
    "\n",
    "df.head()"
   ]
  },
  {
   "cell_type": "code",
   "execution_count": 5,
   "metadata": {},
   "outputs": [
    {
     "output_type": "execute_result",
     "data": {
      "text/plain": [
       "[-87.53, 38.04]"
      ]
     },
     "metadata": {},
     "execution_count": 5
    }
   ],
   "source": [
    "weather.getStationCoordinates(station='KEVV')"
   ]
  },
  {
   "cell_type": "code",
   "execution_count": 8,
   "metadata": {},
   "outputs": [],
   "source": [
    "for d in weather.getStationHourlyForecast(station='KEVV')['properties']['periods']:\n",
    "    print(d['startTime'], d['temperature'])"
   ]
  },
  {
   "cell_type": "code",
   "execution_count": null,
   "metadata": {},
   "outputs": [],
   "source": []
  }
 ]
}