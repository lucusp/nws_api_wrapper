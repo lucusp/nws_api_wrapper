{
 "metadata": {
  "language_info": {
   "codemirror_mode": {
    "name": "ipython",
    "version": 3
   },
   "file_extension": ".py",
   "mimetype": "text/x-python",
   "name": "python",
   "nbconvert_exporter": "python",
   "pygments_lexer": "ipython3",
   "version": "3.8.5-final"
  },
  "orig_nbformat": 2,
  "kernelspec": {
   "name": "python3",
   "display_name": "Python 3.8.5 32-bit",
   "metadata": {
    "interpreter": {
     "hash": "047a21dd25ec62d0c91f659582243a18414ed0db64b27f5b656d40f0f783e35b"
    }
   }
  }
 },
 "nbformat": 4,
 "nbformat_minor": 2,
 "cells": [
  {
   "cell_type": "code",
   "execution_count": 53,
   "metadata": {},
   "outputs": [],
   "source": [
    "import requests\n",
    "import json\n",
    "import pandas as pd\n",
    "from datetime import datetime, timedelta, timezone\n",
    "import pytz"
   ]
  },
  {
   "cell_type": "code",
   "execution_count": 54,
   "metadata": {},
   "outputs": [],
   "source": [
    "headers = {'User-Agent':'CenterPointEnergy lucus.pettigrew@centerpointenergy.com'}\n",
    "req = requests.get('https://api.weather.gov/stations/KEVV/observations', verify=True, headers=headers)\n",
    "json_data = json.loads(req.text)"
   ]
  },
  {
   "cell_type": "code",
   "execution_count": 59,
   "metadata": {
    "tags": []
   },
   "outputs": [
    {
     "output_type": "execute_result",
     "data": {
      "text/plain": [
       "            date            time   temp\n",
       "0     2021-05-02  22:01:00-05:00  59.00\n",
       "1     2021-05-02  21:54:00-05:00  59.00\n",
       "2     2021-05-02  21:48:00-05:00  59.00\n",
       "3     2021-05-02  21:14:00-05:00  59.00\n",
       "4     2021-05-02  20:54:00-05:00  59.00\n",
       "...          ...             ...    ...\n",
       "1315  2021-04-18  09:54:00-05:00  57.92\n",
       "1316  2021-04-18  08:54:00-05:00  53.06\n",
       "1317  2021-04-18  07:54:00-05:00  46.94\n",
       "1318  2021-04-18  06:54:00-05:00  39.92\n",
       "1319  2021-04-18  05:54:00-05:00  39.02\n",
       "\n",
       "[1320 rows x 3 columns]"
      ],
      "text/html": "<div>\n<style scoped>\n    .dataframe tbody tr th:only-of-type {\n        vertical-align: middle;\n    }\n\n    .dataframe tbody tr th {\n        vertical-align: top;\n    }\n\n    .dataframe thead th {\n        text-align: right;\n    }\n</style>\n<table border=\"1\" class=\"dataframe\">\n  <thead>\n    <tr style=\"text-align: right;\">\n      <th></th>\n      <th>date</th>\n      <th>time</th>\n      <th>temp</th>\n    </tr>\n  </thead>\n  <tbody>\n    <tr>\n      <th>0</th>\n      <td>2021-05-02</td>\n      <td>22:01:00-05:00</td>\n      <td>59.00</td>\n    </tr>\n    <tr>\n      <th>1</th>\n      <td>2021-05-02</td>\n      <td>21:54:00-05:00</td>\n      <td>59.00</td>\n    </tr>\n    <tr>\n      <th>2</th>\n      <td>2021-05-02</td>\n      <td>21:48:00-05:00</td>\n      <td>59.00</td>\n    </tr>\n    <tr>\n      <th>3</th>\n      <td>2021-05-02</td>\n      <td>21:14:00-05:00</td>\n      <td>59.00</td>\n    </tr>\n    <tr>\n      <th>4</th>\n      <td>2021-05-02</td>\n      <td>20:54:00-05:00</td>\n      <td>59.00</td>\n    </tr>\n    <tr>\n      <th>...</th>\n      <td>...</td>\n      <td>...</td>\n      <td>...</td>\n    </tr>\n    <tr>\n      <th>1315</th>\n      <td>2021-04-18</td>\n      <td>09:54:00-05:00</td>\n      <td>57.92</td>\n    </tr>\n    <tr>\n      <th>1316</th>\n      <td>2021-04-18</td>\n      <td>08:54:00-05:00</td>\n      <td>53.06</td>\n    </tr>\n    <tr>\n      <th>1317</th>\n      <td>2021-04-18</td>\n      <td>07:54:00-05:00</td>\n      <td>46.94</td>\n    </tr>\n    <tr>\n      <th>1318</th>\n      <td>2021-04-18</td>\n      <td>06:54:00-05:00</td>\n      <td>39.92</td>\n    </tr>\n    <tr>\n      <th>1319</th>\n      <td>2021-04-18</td>\n      <td>05:54:00-05:00</td>\n      <td>39.02</td>\n    </tr>\n  </tbody>\n</table>\n<p>1320 rows × 3 columns</p>\n</div>"
     },
     "metadata": {},
     "execution_count": 59
    }
   ],
   "source": [
    "arr = []\n",
    "\n",
    "for key in json_data:\n",
    "    for items in json_data['features']:\n",
    "        obv_time = items['properties']['timestamp']\n",
    "        _obv_time = datetime.strptime(obv_time, '%Y-%m-%dT%H:%M:%S+00:00')\n",
    "        _obv_time = _obv_time.replace(tzinfo=timezone.utc)\n",
    "        local_timezone = pytz.timezone('US/Central')\n",
    "        _obv_time = _obv_time.astimezone(local_timezone)\n",
    "        date, time = str(_obv_time).split(' ')\n",
    "        arr.append({'date': date, 'time': time, 'temp': (items['properties']['temperature']['value']*1.8)+32})\n",
    "\n",
    "df = pd.DataFrame(arr)\n",
    "\n",
    "df"
   ]
  },
  {
   "cell_type": "code",
   "execution_count": null,
   "metadata": {},
   "outputs": [],
   "source": []
  }
 ]
}